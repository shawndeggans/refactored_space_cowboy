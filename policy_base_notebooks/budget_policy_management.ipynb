{
 "cells": [
  {
   "cell_type": "code",
   "execution_count": 0,
   "metadata": {
    "application/vnd.databricks.v1+cell": {
     "cellMetadata": {
      "byteLimit": 2048000,
      "rowLimit": 10000
     },
     "inputWidgets": {},
     "nuid": "7a8c4ce6-439f-4ba7-aa14-74a2e0b7f502",
     "showTitle": false,
     "tableResultSettingsMap": {},
     "title": ""
    }
   },
   "outputs": [],
   "source": [
    "pip install python-dotenv"
   ]
  },
  {
   "cell_type": "code",
   "execution_count": 0,
   "metadata": {
    "application/vnd.databricks.v1+cell": {
     "cellMetadata": {
      "byteLimit": 2048000,
      "rowLimit": 10000
     },
     "inputWidgets": {},
     "nuid": "f6eb8b62-458a-4231-86af-7461fd2b38da",
     "showTitle": false,
     "tableResultSettingsMap": {},
     "title": ""
    }
   },
   "outputs": [],
   "source": [
    "# Authentication using Service Principal OAuth for Account API\n",
    "import requests\n",
    "import json\n",
    "import os\n",
    "from dotenv import load_dotenv\n",
    "\n",
    "# Make sure environment variables are loaded\n",
    "load_dotenv()\n",
    "\n",
    "# Get credentials from environment variables\n",
    "CLIENT_ID = os.getenv(\"CLIENT_ID\")\n",
    "CLIENT_SECRET = os.getenv(\"SECRET\")\n",
    "ACCOUNT_ID = os.getenv(\"ACCOUNT_ID\")\n",
    "\n",
    "def get_oauth_token():\n",
    "    \"\"\"\n",
    "    Get an OAuth token using the service principal's client ID and secret.\n",
    "    This will allow access to account-level APIs.\n",
    "    \"\"\"\n",
    "    # Construct the token endpoint URL correctly for Azure Databricks\n",
    "    token_url = f\"https://accounts.azuredatabricks.net/oidc/accounts/{ACCOUNT_ID}/v1/token\"\n",
    "    \n",
    "    # Make the token request using HTTP Basic Auth\n",
    "    # The client_id and client_secret should be passed in the Authorization header\n",
    "    # using HTTP Basic Auth format (not in the request body)\n",
    "    response = requests.post(\n",
    "        token_url,\n",
    "        auth=(CLIENT_ID, CLIENT_SECRET),  # HTTP Basic Auth\n",
    "        headers={\"Content-Type\": \"application/x-www-form-urlencoded\"},\n",
    "        data=\"grant_type=client_credentials&scope=all-apis\"  # Correct format for the payload\n",
    "    )\n",
    "    \n",
    "    if response.status_code == 200:\n",
    "        token_data = response.json()\n",
    "        return token_data[\"access_token\"]\n",
    "    else:\n",
    "        print(f\"Error getting token: {response.status_code}\")\n",
    "        print(response.text)\n",
    "        \n",
    "        # Additional debugging information\n",
    "        print(f\"\\nRequest details for debugging:\")\n",
    "        print(f\"URL: {token_url}\")\n",
    "        print(f\"CLIENT_ID length: {len(CLIENT_ID) if CLIENT_ID else 'None'}\")\n",
    "        print(f\"CLIENT_SECRET length: {len(CLIENT_SECRET) if CLIENT_SECRET else 'None'}\")\n",
    "        print(f\"ACCOUNT_ID: {ACCOUNT_ID}\")\n",
    "        \n",
    "        return None\n",
    "\n",
    "def test_authentication():\n",
    "    \"\"\"\n",
    "    Test authentication by making a simple API call to list budget policies.\n",
    "    \"\"\"\n",
    "    token = get_oauth_token()\n",
    "    \n",
    "    if not token:\n",
    "        print(\"Failed to obtain OAuth token.\")\n",
    "        return False\n",
    "    \n",
    "    # Use the token to make a simple API call\n",
    "    url = f\"https://accounts.azuredatabricks.net/api/2.1/accounts/{ACCOUNT_ID}/budget-policies\"\n",
    "    headers = {\n",
    "        \"Authorization\": f\"Bearer {token}\",\n",
    "        \"Content-Type\": \"application/json\"\n",
    "    }\n",
    "    \n",
    "    response = requests.get(url, headers=headers)\n",
    "    \n",
    "    if response.status_code == 200:\n",
    "        print(\"✅ Authentication successful!\")\n",
    "        # Print a sample of the response (first few policies if any)\n",
    "        policies = response.json().get(\"policies\", [])\n",
    "        if policies:\n",
    "            print(f\"Found {len(policies)} budget policies.\")\n",
    "            if len(policies) > 0:\n",
    "                print(f\"First policy name: {policies[0].get('policy_name', 'N/A')}\")\n",
    "        else:\n",
    "            print(\"No budget policies found, but API call was successful.\")\n",
    "        return True\n",
    "    else:\n",
    "        print(f\"❌ Authentication failed with status code: {response.status_code}\")\n",
    "        print(response.text)\n",
    "        return False\n",
    "\n",
    "# Test authentication and get a token\n",
    "auth_success = test_authentication()\n",
    "print(f\"Authentication status: {'Successful' if auth_success else 'Failed'}\")\n",
    "\n",
    "# If authentication is successful, store the token for later use\n",
    "if auth_success:\n",
    "    # This token can be used for all API calls in this notebook\n",
    "    TOKEN = get_oauth_token()\n",
    "    print(f\"OAuth Token: {TOKEN[:10]}...{TOKEN[-10:]} (truncated for security)\")\n",
    "    \n",
    "    # Update the make_api_request function to use OAuth token\n",
    "    def make_api_request(method, endpoint, data=None, params=None):\n",
    "        \"\"\"\n",
    "        Make a request to the Databricks Account API using OAuth authentication.\n",
    "        \n",
    "        Args:\n",
    "            method (str): HTTP method (GET, POST, PATCH, DELETE)\n",
    "            endpoint (str): API endpoint path\n",
    "            data (dict, optional): Request payload\n",
    "            params (dict, optional): Query parameters\n",
    "            \n",
    "        Returns:\n",
    "            dict: Response from the API\n",
    "        \"\"\"\n",
    "        url = f\"https://accounts.azuredatabricks.net{endpoint}\"\n",
    "        headers = {\n",
    "            \"Authorization\": f\"Bearer {TOKEN}\",\n",
    "            \"Content-Type\": \"application/json\"\n",
    "        }\n",
    "        \n",
    "        response = requests.request(\n",
    "            method=method,\n",
    "            url=url,\n",
    "            headers=headers,\n",
    "            data=json.dumps(data) if data else None,\n",
    "            params=params\n",
    "        )\n",
    "        \n",
    "        if response.status_code == 200:\n",
    "            return response.json() if response.content else {}\n",
    "        else:\n",
    "            print(f\"Error: {response.status_code}\")\n",
    "            print(response.text)\n",
    "            return None"
   ]
  },
  {
   "cell_type": "code",
   "execution_count": 0,
   "metadata": {
    "application/vnd.databricks.v1+cell": {
     "cellMetadata": {
      "byteLimit": 2048000,
      "rowLimit": 10000
     },
     "inputWidgets": {},
     "nuid": "1f511943-74e8-40d0-a870-2705a2daa8ae",
     "showTitle": false,
     "tableResultSettingsMap": {},
     "title": ""
    }
   },
   "outputs": [],
   "source": [
    "# Load additional environment variables\n",
    "# (OAuth authentication is already set up in the previous cell)\n",
    "from dotenv import load_dotenv\n",
    "import os\n",
    "    \n",
    "# We already loaded .env file in the authentication cell, but we'll do it again to be safe\n",
    "load_dotenv()\n",
    "\n",
    "# Keep these variables for other operations as needed\n",
    "DATABRICKS_INSTANCE = os.getenv(\"DATABRICKS_INSTANCE\")\n",
    "CLUSTER_ID = os.getenv(\"CLUSTER_ID\")\n",
    "WAREHOUSE_ID = os.getenv(\"WAREHOUSE_ID\")\n",
    "\n",
    "# ACCOUNT_ID is already loaded in the authentication cell\n",
    "# We'll keep it here for reference and backward compatibility\n",
    "ACCOUNT_ID = os.getenv(\"ACCOUNT_ID\")\n",
    "\n",
    "# Display environment variables for reference\n",
    "print(f\"DATABRICKS_INSTANCE: {DATABRICKS_INSTANCE}\")\n",
    "print(f\"CLUSTER_ID: {CLUSTER_ID}\")\n",
    "print(f\"WAREHOUSE_ID: {WAREHOUSE_ID}\")\n",
    "print(f\"ACCOUNT_ID: {ACCOUNT_ID}\")"
   ]
  },
  {
   "cell_type": "markdown",
   "metadata": {
    "application/vnd.databricks.v1+cell": {
     "cellMetadata": {},
     "inputWidgets": {},
     "nuid": "b42b2a40-c64a-45e7-9cea-266be47d3e1d",
     "showTitle": false,
     "tableResultSettingsMap": {},
     "title": ""
    }
   },
   "source": [
    "### API Request Setup"
   ]
  },
  {
   "cell_type": "code",
   "execution_count": 0,
   "metadata": {
    "application/vnd.databricks.v1+cell": {
     "cellMetadata": {
      "byteLimit": 2048000,
      "rowLimit": 10000
     },
     "inputWidgets": {},
     "nuid": "3c0a81b8-069f-4c8e-83f4-e7a3fef25579",
     "showTitle": false,
     "tableResultSettingsMap": {},
     "title": ""
    }
   },
   "outputs": [],
   "source": [
    "import requests\n",
    "import json\n",
    "from uuid import uuid4\n",
    "\n",
    "# Note: We're NOT using this function since we defined a better version in the OAuth cell\n",
    "# This is kept here for reference only\n",
    "def old_make_api_request(method, endpoint, data=None, params=None):\n",
    "    \"\"\"\n",
    "    DEPRECATED: Use the make_api_request function from the authentication cell instead.\n",
    "    \"\"\"\n",
    "    print(\"WARNING: Using deprecated API request function. Please use the one defined in the authentication cell.\")\n",
    "    url = f\"https://accounts.azuredatabricks.net{endpoint}\"\n",
    "    headers = {\n",
    "        \"Authorization\": f\"Bearer {TOKEN}\",  # This is the old PAT token, not the OAuth token\n",
    "        \"Content-Type\": \"application/json\"\n",
    "    }\n",
    "    \n",
    "    response = requests.request(\n",
    "        method=method,\n",
    "        url=url,\n",
    "        headers=headers,\n",
    "        data=json.dumps(data) if data else None,\n",
    "        params=params\n",
    "    )\n",
    "    \n",
    "    if response.status_code == 200:\n",
    "        return response.json() if response.content else {}\n",
    "    else:\n",
    "        print(f\"Error: {response.status_code}\")\n",
    "        print(response.text)\n",
    "        return None\n",
    "\n",
    "# We don't need to redefine make_api_request here - we'll use the one from the OAuth cell\n",
    "# The function is already defined with our OAuth token in cell #2"
   ]
  },
  {
   "cell_type": "markdown",
   "metadata": {
    "application/vnd.databricks.v1+cell": {
     "cellMetadata": {},
     "inputWidgets": {},
     "nuid": "3b177050-cfbe-4f55-be60-93ac91b51084",
     "showTitle": false,
     "tableResultSettingsMap": {},
     "title": ""
    }
   },
   "source": [
    "### List Budget Policies"
   ]
  },
  {
   "cell_type": "code",
   "execution_count": 0,
   "metadata": {
    "application/vnd.databricks.v1+cell": {
     "cellMetadata": {
      "byteLimit": 2048000,
      "rowLimit": 10000
     },
     "inputWidgets": {},
     "nuid": "92c62ff4-09cb-48c7-b6d5-e054669be286",
     "showTitle": false,
     "tableResultSettingsMap": {},
     "title": ""
    }
   },
   "outputs": [],
   "source": [
    "def list_budget_policies(page_size=100, page_token=None, filter_by=None, sort_spec=None):\n",
    "    \"\"\"\n",
    "    List all budget policies.\n",
    "    \n",
    "    Args:\n",
    "        page_size (int, optional): Maximum number of policies to return (max 1000)\n",
    "        page_token (str, optional): Token for pagination\n",
    "        filter_by (dict, optional): Filter criteria\n",
    "        sort_spec (dict, optional): Sort specification\n",
    "        \n",
    "    Returns:\n",
    "        dict: List of budget policies\n",
    "    \"\"\"\n",
    "    endpoint = f\"/api/2.1/accounts/{ACCOUNT_ID}/budget-policies\"\n",
    "    params = {}\n",
    "    \n",
    "    if page_size:\n",
    "        params[\"page_size\"] = page_size\n",
    "    if page_token:\n",
    "        params[\"page_token\"] = page_token\n",
    "    if filter_by:\n",
    "        params[\"filter_by\"] = filter_by\n",
    "    if sort_spec:\n",
    "        params[\"sort_spec\"] = sort_spec\n",
    "    \n",
    "    # This will use the make_api_request function defined in cell #2 with OAuth token\n",
    "    return make_api_request(\"GET\", endpoint, params=params)\n",
    "\n",
    "# Example: List all budget policies\n",
    "policies = list_budget_policies()\n",
    "print(json.dumps(policies, indent=2))"
   ]
  },
  {
   "cell_type": "markdown",
   "metadata": {
    "application/vnd.databricks.v1+cell": {
     "cellMetadata": {},
     "inputWidgets": {},
     "nuid": "cc6b580c-577c-4e14-86d3-15ab4b399129",
     "showTitle": false,
     "tableResultSettingsMap": {},
     "title": ""
    }
   },
   "source": [
    "### Create Budget Policies"
   ]
  },
  {
   "cell_type": "code",
   "execution_count": 0,
   "metadata": {
    "application/vnd.databricks.v1+cell": {
     "cellMetadata": {
      "byteLimit": 2048000,
      "rowLimit": 10000
     },
     "inputWidgets": {},
     "nuid": "fa74c84f-b644-4bde-b19d-81a63ee1c4cf",
     "showTitle": false,
     "tableResultSettingsMap": {},
     "title": ""
    }
   },
   "outputs": [],
   "source": [
    "def create_budget_policy(policy_name, binding_workspace_ids=None, custom_tags=None):\n",
    "    \"\"\"\n",
    "    Create a new budget policy.\n",
    "    \n",
    "    Args:\n",
    "        policy_name (str): Name of the policy (1-127 chars)\n",
    "        binding_workspace_ids (list, optional): List of workspace IDs to bind the policy to\n",
    "        custom_tags (list, optional): List of custom tags (max 20)\n",
    "        \n",
    "    Returns:\n",
    "        dict: Created budget policy\n",
    "    \"\"\"\n",
    "    endpoint = f\"/api/2.1/accounts/{ACCOUNT_ID}/budget-policies\"\n",
    "    \n",
    "    policy = {\n",
    "        \"policy_name\": policy_name\n",
    "    }\n",
    "    \n",
    "    if binding_workspace_ids:\n",
    "        policy[\"binding_workspace_ids\"] = binding_workspace_ids\n",
    "    \n",
    "    if custom_tags:\n",
    "        policy[\"custom_tags\"] = custom_tags\n",
    "    \n",
    "    data = {\n",
    "        \"policy\": policy,\n",
    "        \"request_id\": str(uuid4())  # Generate a random UUID for idempotent request\n",
    "    }\n",
    "    \n",
    "    return make_api_request(\"POST\", endpoint, data=data)\n",
    "\n",
    "# Example: Create a new budget policy\n",
    "# Uncomment and modify as needed\n",
    "new_policy = create_budget_policy(\n",
    "    policy_name=\"Dev Team Budget\",\n",
    "    binding_workspace_ids=[12345, 67890],  # Replace with actual workspace IDs\n",
    "    custom_tags=[\n",
    "        {\"key\": \"department\", \"value\": \"engineering\"},\n",
    "        {\"key\": \"project\", \"value\": \"data-platform\"}\n",
    "    ]\n",
    ")\n",
    "print(json.dumps(new_policy, indent=2))"
   ]
  },
  {
   "cell_type": "markdown",
   "metadata": {
    "application/vnd.databricks.v1+cell": {
     "cellMetadata": {},
     "inputWidgets": {},
     "nuid": "ed2e55e3-0d3d-43a5-b670-f7ecf68e9ae2",
     "showTitle": false,
     "tableResultSettingsMap": {},
     "title": ""
    }
   },
   "source": [
    "### Get budget by ID"
   ]
  },
  {
   "cell_type": "code",
   "execution_count": 0,
   "metadata": {
    "application/vnd.databricks.v1+cell": {
     "cellMetadata": {
      "byteLimit": 2048000,
      "rowLimit": 10000
     },
     "inputWidgets": {},
     "nuid": "c2df61b5-eada-4009-93c6-8edb6d302875",
     "showTitle": false,
     "tableResultSettingsMap": {},
     "title": ""
    }
   },
   "outputs": [],
   "source": [
    "def get_budget_policy(policy_id):\n",
    "    \"\"\"\n",
    "    Get a budget policy by ID.\n",
    "    \n",
    "    Args:\n",
    "        policy_id (str): ID of the policy\n",
    "        \n",
    "    Returns:\n",
    "        dict: Budget policy details\n",
    "    \"\"\"\n",
    "    endpoint = f\"/api/2.1/accounts/{ACCOUNT_ID}/budget-policies/{policy_id}\"\n",
    "    return make_api_request(\"GET\", endpoint)\n",
    "\n",
    "# Example: Get a budget policy by ID\n",
    "# Uncomment and modify as needed\n",
    "policy_id = \"dee573ea-fc87-3782-a2ca-9bd87c7d8bbf\"  # Replace with actual policy ID\n",
    "policy = get_budget_policy(policy_id)\n",
    "print(json.dumps(policy, indent=2))"
   ]
  },
  {
   "cell_type": "markdown",
   "metadata": {
    "application/vnd.databricks.v1+cell": {
     "cellMetadata": {},
     "inputWidgets": {},
     "nuid": "ee2406ce-1fa9-4e78-8cf0-9ed360487255",
     "showTitle": false,
     "tableResultSettingsMap": {},
     "title": ""
    }
   },
   "source": [
    "### Update budget policy"
   ]
  },
  {
   "cell_type": "code",
   "execution_count": 0,
   "metadata": {
    "application/vnd.databricks.v1+cell": {
     "cellMetadata": {
      "byteLimit": 2048000,
      "rowLimit": 10000
     },
     "inputWidgets": {},
     "nuid": "b7fd377f-8b14-448e-89a1-75d10ec1f9b9",
     "showTitle": false,
     "tableResultSettingsMap": {},
     "title": ""
    }
   },
   "outputs": [],
   "source": [
    "def update_budget_policy(policy_id, policy_name=None, binding_workspace_ids=None, custom_tags=None):\n",
    "    \"\"\"\n",
    "    Update a budget policy.\n",
    "    \n",
    "    Args:\n",
    "        policy_id (str): ID of the policy to update\n",
    "        policy_name (str, optional): New name for the policy\n",
    "        binding_workspace_ids (list, optional): New list of workspace IDs\n",
    "        custom_tags (list, optional): New list of custom tags\n",
    "        \n",
    "    Returns:\n",
    "        dict: Updated budget policy\n",
    "    \"\"\"\n",
    "    endpoint = f\"/api/2.1/accounts/{ACCOUNT_ID}/budget-policies/{policy_id}\"\n",
    "    \n",
    "    data = {\n",
    "        \"policy_id\": policy_id\n",
    "    }\n",
    "    \n",
    "    if policy_name:\n",
    "        data[\"policy_name\"] = policy_name\n",
    "    \n",
    "    if binding_workspace_ids is not None:  # Allow empty list to clear bindings\n",
    "        data[\"binding_workspace_ids\"] = binding_workspace_ids\n",
    "    \n",
    "    if custom_tags is not None:  # Allow empty list to clear tags\n",
    "        data[\"custom_tags\"] = custom_tags\n",
    "    \n",
    "    return make_api_request(\"PATCH\", endpoint, data=data)\n",
    "\n",
    "# Example: Update a budget policy\n",
    "# Uncomment and modify as needed\n",
    "policy_id = \"dee573ea-fc87-3782-a2ca-9bd87c7d8bbf\"  # Replace with actual policy ID\n",
    "updated_policy = update_budget_policy(\n",
    "    policy_id=policy_id,\n",
    "    policy_name=\"Updated Dev Team Budget\",\n",
    "    binding_workspace_ids=[],  # Add a new workspace ID\n",
    "    custom_tags=[\n",
    "        {\"key\": \"department\", \"value\": \"engineering\"},\n",
    "        {\"key\": \"project\", \"value\": \"data-platform\"},\n",
    "        {\"key\": \"status\", \"value\": \"active\"}\n",
    "    ]\n",
    ")\n",
    "print(json.dumps(updated_policy, indent=2))"
   ]
  },
  {
   "cell_type": "markdown",
   "metadata": {
    "application/vnd.databricks.v1+cell": {
     "cellMetadata": {},
     "inputWidgets": {},
     "nuid": "5dd1ed92-b3ee-47f9-b82d-0672264ef75d",
     "showTitle": false,
     "tableResultSettingsMap": {},
     "title": ""
    }
   },
   "source": [
    "### Delete budget ID"
   ]
  },
  {
   "cell_type": "code",
   "execution_count": 0,
   "metadata": {
    "application/vnd.databricks.v1+cell": {
     "cellMetadata": {
      "byteLimit": 2048000,
      "rowLimit": 10000
     },
     "inputWidgets": {},
     "nuid": "e60e69bc-8169-465a-96c7-9920e4ee3ac5",
     "showTitle": false,
     "tableResultSettingsMap": {},
     "title": ""
    }
   },
   "outputs": [],
   "source": [
    "def delete_budget_policy(policy_id):\n",
    "    \"\"\"\n",
    "    Delete a budget policy.\n",
    "    \n",
    "    Args:\n",
    "        policy_id (str): ID of the policy to delete\n",
    "        \n",
    "    Returns:\n",
    "        dict: Empty response if successful\n",
    "    \"\"\"\n",
    "    endpoint = f\"/api/2.1/accounts/{ACCOUNT_ID}/budget-policies/{policy_id}\"\n",
    "    return make_api_request(\"DELETE\", endpoint)\n",
    "\n",
    "# Example: Delete a budget policy\n",
    "# Uncomment and modify as needed\n",
    "policy_id = \"dee573ea-fc87-3782-a2ca-9bd87c7d8bbf\"  # Replace with actual policy ID\n",
    "result = delete_budget_policy(policy_id)\n",
    "if result is not None:\n",
    "    print(f\"Policy {policy_id} deleted successfully.\")\n",
    "else:\n",
    "    print(f\"Failed to delete policy {policy_id}.\")"
   ]
  },
  {
   "cell_type": "markdown",
   "metadata": {
    "application/vnd.databricks.v1+cell": {
     "cellMetadata": {},
     "inputWidgets": {},
     "nuid": "6b43940b-1646-47e5-9eb5-e4bf23755bf9",
     "showTitle": false,
     "tableResultSettingsMap": {},
     "title": ""
    }
   },
   "source": [
    "### Prettify Policy"
   ]
  },
  {
   "cell_type": "code",
   "execution_count": 0,
   "metadata": {
    "application/vnd.databricks.v1+cell": {
     "cellMetadata": {
      "byteLimit": 2048000,
      "rowLimit": 10000
     },
     "inputWidgets": {},
     "nuid": "ad7c4e76-49df-48b9-b61d-9e19ae25faab",
     "showTitle": false,
     "tableResultSettingsMap": {},
     "title": ""
    }
   },
   "outputs": [],
   "source": [
    "def prettify_policy(policy):\n",
    "    \"\"\"\n",
    "    Format a policy for better readability.\n",
    "    \n",
    "    Args:\n",
    "        policy (dict): Budget policy\n",
    "        \n",
    "    Returns:\n",
    "        str: Formatted policy string\n",
    "    \"\"\"\n",
    "    output = []\n",
    "    output.append(f\"Policy ID: {policy.get('policy_id', 'N/A')}\")\n",
    "    output.append(f\"Name: {policy.get('policy_name', 'N/A')}\")\n",
    "    \n",
    "    binding_workspace_ids = policy.get('binding_workspace_ids', [])\n",
    "    if binding_workspace_ids:\n",
    "        output.append(f\"Binding Workspace IDs: {', '.join(map(str, binding_workspace_ids))}\")\n",
    "    else:\n",
    "        output.append(\"Binding Workspace IDs: None (applies to all workspaces)\")\n",
    "    \n",
    "    custom_tags = policy.get('custom_tags', [])\n",
    "    if custom_tags:\n",
    "        output.append(\"Custom Tags:\")\n",
    "        for tag in custom_tags:\n",
    "            output.append(f\"  - {tag.get('key', 'N/A')}: {tag.get('value', 'N/A')}\")\n",
    "    else:\n",
    "        output.append(\"Custom Tags: None\")\n",
    "    \n",
    "    return \"\\n\".join(output)\n",
    "\n",
    "def display_policies(policies_response):\n",
    "    \"\"\"\n",
    "    Display a list of policies in a more readable format.\n",
    "    \n",
    "    Args:\n",
    "        policies_response (dict): Response from list_budget_policies\n",
    "    \"\"\"\n",
    "    if not policies_response:\n",
    "        print(\"No response or error occurred.\")\n",
    "        return\n",
    "    \n",
    "    policies = policies_response.get('policies', [])\n",
    "    next_page_token = policies_response.get('next_page_token')\n",
    "    previous_page_token = policies_response.get('previous_page_token')\n",
    "    \n",
    "    print(f\"Total policies: {len(policies)}\")\n",
    "    \n",
    "    if next_page_token:\n",
    "        print(f\"Next page token: {next_page_token}\")\n",
    "    \n",
    "    if previous_page_token:\n",
    "        print(f\"Previous page token: {previous_page_token}\")\n",
    "    \n",
    "    print(\"\\nPolicies:\")\n",
    "    for i, policy in enumerate(policies, 1):\n",
    "        print(f\"\\n{i}. \" + prettify_policy(policy))\n",
    "        print(\"-\" * 50)\n",
    "\n",
    "# Example: Display policies in a readable format\n",
    "# Uncomment to run\n",
    "all_policies = list_budget_policies()\n",
    "display_policies(all_policies)"
   ]
  },
  {
   "cell_type": "markdown",
   "metadata": {
    "application/vnd.databricks.v1+cell": {
     "cellMetadata": {},
     "inputWidgets": {},
     "nuid": "b04bdbb4-aa67-4479-a5f9-229edb49a69e",
     "showTitle": false,
     "tableResultSettingsMap": {},
     "title": ""
    }
   },
   "source": [
    "### End to end example"
   ]
  },
  {
   "cell_type": "code",
   "execution_count": 0,
   "metadata": {
    "application/vnd.databricks.v1+cell": {
     "cellMetadata": {
      "byteLimit": 2048000,
      "rowLimit": 10000
     },
     "inputWidgets": {},
     "nuid": "c092667a-8b38-4490-97c6-d67f0c6b8664",
     "showTitle": false,
     "tableResultSettingsMap": {},
     "title": ""
    }
   },
   "outputs": [],
   "source": [
    "def run_complete_example():\n",
    "    \"\"\"\n",
    "    Complete example of budget policy management workflow.\n",
    "    \"\"\"\n",
    "    # Step 1: Create a new policy\n",
    "    print(\"Creating a new budget policy...\")\n",
    "    new_policy = create_budget_policy(\n",
    "        policy_name=\"Example Budget Policy\",\n",
    "        binding_workspace_ids=[12345],  # Replace with actual workspace ID\n",
    "        custom_tags=[\n",
    "            {\"key\": \"department\", \"value\": \"data_science\"},\n",
    "            {\"key\": \"environment\", \"value\": \"dev\"}\n",
    "        ]\n",
    "    )\n",
    "    \n",
    "    if not new_policy:\n",
    "        print(\"Failed to create a policy. Exiting example.\")\n",
    "        return\n",
    "    \n",
    "    policy_id = new_policy[\"policy_id\"]\n",
    "    print(f\"Created policy with ID: {policy_id}\")\n",
    "    print(prettify_policy(new_policy))\n",
    "    \n",
    "    # Step 2: Get the policy details\n",
    "    print(\"\\nFetching the policy details...\")\n",
    "    policy = get_budget_policy(policy_id)\n",
    "    print(prettify_policy(policy))\n",
    "    \n",
    "    # Step 3: Update the policy\n",
    "    print(\"\\nUpdating the policy...\")\n",
    "    updated_policy = update_budget_policy(\n",
    "        policy_id=policy_id,\n",
    "        policy_name=\"Updated Example Policy\",\n",
    "        binding_workspace_ids=[12345, 67890],  # Replace with actual workspace IDs\n",
    "        custom_tags=[\n",
    "            {\"key\": \"department\", \"value\": \"data_science\"},\n",
    "            {\"key\": \"environment\", \"value\": \"staging\"},\n",
    "            {\"key\": \"status\", \"value\": \"active\"}\n",
    "        ]\n",
    "    )\n",
    "    print(prettify_policy(updated_policy))\n",
    "    \n",
    "    # Step 4: List all policies\n",
    "    print(\"\\nListing all policies...\")\n",
    "    all_policies = list_budget_policies()\n",
    "    display_policies(all_policies)\n",
    "    \n",
    "    # Step 5: Delete the policy\n",
    "    print(f\"\\nDeleting policy {policy_id}...\")\n",
    "    confirm = input(f\"Delete policy {policy_id}? (y/n): \")\n",
    "    \n",
    "    if confirm.lower() == 'y':\n",
    "        result = delete_budget_policy(policy_id)\n",
    "        if result is not None:\n",
    "            print(f\"Policy {policy_id} deleted successfully.\")\n",
    "            \n",
    "            # Verify deletion\n",
    "            print(\"\\nVerifying deletion by listing all policies again...\")\n",
    "            all_policies_after_deletion = list_budget_policies()\n",
    "            display_policies(all_policies_after_deletion)\n",
    "        else:\n",
    "            print(f\"Failed to delete policy {policy_id}.\")\n",
    "    else:\n",
    "        print(\"Policy deletion cancelled.\")\n",
    "\n",
    "# Uncomment to run the complete example\n",
    "run_complete_example()"
   ]
  },
  {
   "cell_type": "markdown",
   "metadata": {
    "application/vnd.databricks.v1+cell": {
     "cellMetadata": {},
     "inputWidgets": {},
     "nuid": "f89daaba-e437-4716-a84d-60d89eddc589",
     "showTitle": false,
     "tableResultSettingsMap": {},
     "title": ""
    }
   },
   "source": [
    "### Validation function"
   ]
  },
  {
   "cell_type": "code",
   "execution_count": 0,
   "metadata": {
    "application/vnd.databricks.v1+cell": {
     "cellMetadata": {
      "byteLimit": 2048000,
      "rowLimit": 10000
     },
     "inputWidgets": {},
     "nuid": "09c13280-15c0-48e0-87bb-5c3939af517d",
     "showTitle": false,
     "tableResultSettingsMap": {},
     "title": ""
    }
   },
   "outputs": [],
   "source": [
    "def validate_policy_name(name):\n",
    "    \"\"\"\n",
    "    Validate policy name according to API requirements.\n",
    "    \n",
    "    Args:\n",
    "        name (str): Policy name to validate\n",
    "        \n",
    "    Returns:\n",
    "        bool: True if valid, False otherwise\n",
    "    \"\"\"\n",
    "    if not name:\n",
    "        print(\"Error: Policy name cannot be empty.\")\n",
    "        return False\n",
    "    \n",
    "    if len(name) > 127:\n",
    "        print(\"Error: Policy name must be at most 127 characters.\")\n",
    "        return False\n",
    "    \n",
    "    if name.startswith(\"databricks:default-policy\"):\n",
    "        print(\"Error: Policy name cannot start with reserved keyword 'databricks:default-policy'.\")\n",
    "        return False\n",
    "    \n",
    "    # Check for ISO 8859-1 (latin1) character set\n",
    "    try:\n",
    "        name.encode('latin1')\n",
    "    except UnicodeEncodeError:\n",
    "        print(\"Error: Policy name can only contain characters from the ISO 8859-1 (latin1) set.\")\n",
    "        return False\n",
    "    \n",
    "    return True\n",
    "\n",
    "def validate_custom_tags(tags):\n",
    "    \"\"\"\n",
    "    Validate custom tags according to API requirements.\n",
    "    \n",
    "    Args:\n",
    "        tags (list): List of tag dictionaries to validate\n",
    "        \n",
    "    Returns:\n",
    "        bool: True if valid, False otherwise\n",
    "    \"\"\"\n",
    "    if len(tags) > 20:\n",
    "        print(\"Error: At most 20 tags are allowed per policy.\")\n",
    "        return False\n",
    "    \n",
    "    for tag in tags:\n",
    "        if 'key' not in tag or 'value' not in tag:\n",
    "            print(\"Error: Each tag must have both 'key' and 'value' fields.\")\n",
    "            return False\n",
    "    \n",
    "    return True"
   ]
  },
  {
   "cell_type": "markdown",
   "metadata": {
    "application/vnd.databricks.v1+cell": {
     "cellMetadata": {},
     "inputWidgets": {},
     "nuid": "4f6f3e71-514d-4ddb-9026-3f1ebb3880ae",
     "showTitle": false,
     "tableResultSettingsMap": {},
     "title": ""
    }
   },
   "source": [
    "### CLI for Budget Policy Management"
   ]
  },
  {
   "cell_type": "code",
   "execution_count": 0,
   "metadata": {
    "application/vnd.databricks.v1+cell": {
     "cellMetadata": {
      "byteLimit": 2048000,
      "rowLimit": 10000
     },
     "inputWidgets": {},
     "nuid": "9dd9a0de-c4ea-4ff3-8aa1-9eb8adbeddd7",
     "showTitle": false,
     "tableResultSettingsMap": {},
     "title": ""
    }
   },
   "outputs": [],
   "source": [
    "def budget_policy_cli():\n",
    "    \"\"\"\n",
    "    Interactive command-line interface for managing budget policies.\n",
    "    \"\"\"\n",
    "    while True:\n",
    "        print(\"\\n=== Budget Policy Management CLI ===\")\n",
    "        print(\"1. List all policies\")\n",
    "        print(\"2. Create a new policy\")\n",
    "        print(\"3. Get a policy by ID\")\n",
    "        print(\"4. Update a policy\")\n",
    "        print(\"5. Delete a policy\")\n",
    "        print(\"6. Exit\")\n",
    "        \n",
    "        choice = input(\"\\nEnter your choice (1-6): \")\n",
    "        \n",
    "        if choice == '1':\n",
    "            # List policies with optional pagination\n",
    "            page_size = input(\"Enter page size (press Enter for default 100): \")\n",
    "            page_size = int(page_size) if page_size else 100\n",
    "            \n",
    "            page_token = input(\"Enter page token (press Enter for none): \")\n",
    "            page_token = page_token if page_token else None\n",
    "            \n",
    "            policies = list_budget_policies(page_size=page_size, page_token=page_token)\n",
    "            display_policies(policies)\n",
    "        \n",
    "        elif choice == '2':\n",
    "            # Create new policy\n",
    "            policy_name = input(\"Enter policy name: \")\n",
    "            \n",
    "            if not validate_policy_name(policy_name):\n",
    "                continue\n",
    "            \n",
    "            workspace_ids_str = input(\"Enter workspace IDs (comma-separated, press Enter for none): \")\n",
    "            workspace_ids = [int(id.strip()) for id in workspace_ids_str.split(',') if id.strip()] if workspace_ids_str else []\n",
    "            \n",
    "            tags_count = input(\"Enter number of custom tags (press Enter for none): \")\n",
    "            custom_tags = []\n",
    "            \n",
    "            if tags_count and int(tags_count) > 0:\n",
    "                for i in range(int(tags_count)):\n",
    "                    key = input(f\"Enter tag {i+1} key: \")\n",
    "                    value = input(f\"Enter tag {i+1} value: \")\n",
    "                    custom_tags.append({\"key\": key, \"value\": value})\n",
    "            \n",
    "            if custom_tags and not validate_custom_tags(custom_tags):\n",
    "                continue\n",
    "            \n",
    "            new_policy = create_budget_policy(\n",
    "                policy_name=policy_name,\n",
    "                binding_workspace_ids=workspace_ids,\n",
    "                custom_tags=custom_tags\n",
    "            )\n",
    "            \n",
    "            if new_policy:\n",
    "                print(\"\\nPolicy created successfully:\")\n",
    "                print(prettify_policy(new_policy))\n",
    "            else:\n",
    "                print(\"\\nFailed to create policy.\")\n",
    "        \n",
    "        elif choice == '3':\n",
    "            # Get policy by ID\n",
    "            policy_id = input(\"Enter policy ID: \")\n",
    "            policy = get_budget_policy(policy_id)\n",
    "            \n",
    "            if policy:\n",
    "                print(\"\\nPolicy details:\")\n",
    "                print(prettify_policy(policy))\n",
    "            else:\n",
    "                print(f\"\\nPolicy with ID {policy_id} not found or error occurred.\")\n",
    "        \n",
    "        elif choice == '4':\n",
    "            # Update existing policy\n",
    "            policy_id = input(\"Enter policy ID to update: \")\n",
    "            \n",
    "            # Get current policy to show current values\n",
    "            current_policy = get_budget_policy(policy_id)\n",
    "            \n",
    "            if not current_policy:\n",
    "                print(f\"\\nPolicy with ID {policy_id} not found or error occurred.\")\n",
    "                continue\n",
    "            \n",
    "            print(\"\\nCurrent policy details:\")\n",
    "            print(prettify_policy(current_policy))\n",
    "            \n",
    "            # Get updated values\n",
    "            policy_name = input(f\"\\nEnter new policy name (press Enter to keep '{current_policy.get('policy_name')}'): \")\n",
    "            if policy_name and not validate_policy_name(policy_name):\n",
    "                continue\n",
    "            policy_name = policy_name if policy_name else current_policy.get('policy_name')\n",
    "            \n",
    "            workspace_ids_str = input(\"Enter new workspace IDs (comma-separated, press Enter to keep current): \")\n",
    "            if workspace_ids_str:\n",
    "                workspace_ids = [int(id.strip()) for id in workspace_ids_str.split(',') if id.strip()]\n",
    "            else:\n",
    "                workspace_ids = current_policy.get('binding_workspace_ids')\n",
    "            \n",
    "            update_tags = input(\"Update custom tags? (y/n): \").lower() == 'y'\n",
    "            \n",
    "            if update_tags:\n",
    "                tags_count = input(\"Enter number of custom tags: \")\n",
    "                custom_tags = []\n",
    "                \n",
    "                if tags_count and int(tags_count) > 0:\n",
    "                    for i in range(int(tags_count)):\n",
    "                        key = input(f\"Enter tag {i+1} key: \")\n",
    "                        value = input(f\"Enter tag {i+1} value: \")\n",
    "                        custom_tags.append({\"key\": key, \"value\": value})\n",
    "                \n",
    "                if custom_tags and not validate_custom_tags(custom_tags):\n",
    "                    continue\n",
    "            else:\n",
    "                custom_tags = current_policy.get('custom_tags')\n",
    "            \n",
    "            updated_policy = update_budget_policy(\n",
    "                policy_id=policy_id,\n",
    "                policy_name=policy_name,\n",
    "                binding_workspace_ids=workspace_ids,\n",
    "                custom_tags=custom_tags\n",
    "            )\n",
    "            \n",
    "            if updated_policy:\n",
    "                print(\"\\nPolicy updated successfully:\")\n",
    "                print(prettify_policy(updated_policy))\n",
    "            else:\n",
    "                print(\"\\nFailed to update policy.\")\n",
    "        \n",
    "        elif choice == '5':\n",
    "            # Delete policy\n",
    "            policy_id = input(\"Enter policy ID to delete: \")\n",
    "            \n",
    "            # Confirm deletion\n",
    "            confirm = input(f\"Are you sure you want to delete policy {policy_id}? (y/n): \").lower()\n",
    "            \n",
    "            if confirm == 'y':\n",
    "                result = delete_budget_policy(policy_id)\n",
    "                \n",
    "                if result is not None:\n",
    "                    print(f\"\\nPolicy {policy_id} deleted successfully.\")\n",
    "                else:\n",
    "                    print(f\"\\nFailed to delete policy {policy_id}.\")\n",
    "            else:\n",
    "                print(\"\\nDeletion cancelled.\")\n",
    "        \n",
    "        elif choice == '6':\n",
    "            print(\"\\nExiting Budget Policy Management CLI. Goodbye!\")\n",
    "            break\n",
    "        \n",
    "        else:\n",
    "            print(\"\\nInvalid choice. Please enter a number between 1 and 6.\")\n",
    "\n",
    "# Uncomment to run the interactive CLI\n",
    "budget_policy_cli()"
   ]
  }
 ],
 "metadata": {
  "application/vnd.databricks.v1+notebook": {
   "computePreferences": null,
   "dashboards": [],
   "environmentMetadata": {
    "base_environment": "",
    "environment_version": "2"
   },
   "inputWidgetPreferences": null,
   "language": "python",
   "notebookMetadata": {
    "pythonIndentUnit": 4
   },
   "notebookName": "budget_policy_management",
   "widgets": {}
  },
  "language_info": {
   "name": "python"
  }
 },
 "nbformat": 4,
 "nbformat_minor": 0
}
